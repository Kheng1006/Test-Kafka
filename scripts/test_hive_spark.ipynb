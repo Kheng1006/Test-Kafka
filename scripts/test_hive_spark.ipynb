{
 "cells": [
  {
   "cell_type": "code",
   "execution_count": 1,
   "id": "e84ff325-26c4-4bfd-98f8-3c8faeb5241d",
   "metadata": {},
   "outputs": [],
   "source": [
    "from pyspark.sql import SparkSession, Row\n",
    "from pyspark.sql.types import StructType, StructField, IntegerType, StringType"
   ]
  },
  {
   "cell_type": "code",
   "execution_count": 2,
   "id": "84fe169b-a2bd-4bb3-af81-5843c7e2477e",
   "metadata": {
    "scrolled": true
   },
   "outputs": [],
   "source": [
    "spark = SparkSession.builder \\\n",
    "    .appName(\"SparkHiveExample\") \\\n",
    "    .config(\"spark.sql.catalogImplementation\", \"hive\") \\\n",
    "    .config(\"hive.metastore.uris\", \"thrift://demo-hive-metastore:9083\") \\\n",
    "    .enableHiveSupport() \\\n",
    "    .getOrCreate()"
   ]
  },
  {
   "cell_type": "code",
   "execution_count": 3,
   "id": "c2b56822-9bf8-4eed-bdc3-c9c24150ef09",
   "metadata": {},
   "outputs": [
    {
     "name": "stdout",
     "output_type": "stream",
     "text": [
      "+---------+\n",
      "|namespace|\n",
      "+---------+\n",
      "|  default|\n",
      "|      emp|\n",
      "+---------+\n",
      "\n"
     ]
    }
   ],
   "source": [
    "spark.sql(\"CREATE DATABASE IF NOT EXISTS emp\")\n",
    "spark.sql(\"SHOW DATABASES\").show()"
   ]
  },
  {
   "cell_type": "code",
   "execution_count": 7,
   "id": "199e0152-fab7-48c6-86e2-76b5782d5ac9",
   "metadata": {},
   "outputs": [
    {
     "data": {
      "text/plain": [
       "DataFrame[]"
      ]
     },
     "execution_count": 7,
     "metadata": {},
     "output_type": "execute_result"
    }
   ],
   "source": [
    "spark.sql(\"USE emp;\")"
   ]
  },
  {
   "cell_type": "code",
   "execution_count": 5,
   "id": "8cb8f49e-1609-4051-baa6-302f49cbda88",
   "metadata": {},
   "outputs": [],
   "source": [
    "schema = StructType([\n",
    "    StructField(\"id\", IntegerType(), True),\n",
    "    StructField(\"name\", StringType(), True),\n",
    "    StructField(\"age\", IntegerType(), True),\n",
    "    StructField(\"gender\", StringType(), True)\n",
    "])"
   ]
  },
  {
   "cell_type": "code",
   "execution_count": 8,
   "id": "6361a58e-1725-4192-9eeb-c7cbd7c75d70",
   "metadata": {
    "scrolled": true
   },
   "outputs": [
    {
     "name": "stdout",
     "output_type": "stream",
     "text": [
      "+---+--------+---+------+\n",
      "| id|    name|age|gender|\n",
      "+---+--------+---+------+\n",
      "|  4|Jennifer| 20|     F|\n",
      "|  4|Jennifer| 20|     F|\n",
      "|  1|   James| 30|     M|\n",
      "|  1|   James| 30|     M|\n",
      "|  3|    Jeff| 41|     M|\n",
      "|  3|    Jeff| 41|     M|\n",
      "|  2|     Ann| 40|     F|\n",
      "|  2|     Ann| 40|     F|\n",
      "+---+--------+---+------+\n",
      "\n"
     ]
    }
   ],
   "source": [
    "data = [(1, \"James\",30,\"M\"), (2, \"Ann\",40,\"F\"),\n",
    "    (3, \"Jeff\",41,\"M\"),(4, \"Jennifer\",20,\"F\")]\n",
    "df = spark.createDataFrame(data, schema)\n",
    "\n",
    "df.write.mode('append') \\\n",
    "          .saveAsTable(\"emp.employee\")\n",
    "\n",
    "spark.sql(\"select * from employee;\").show()"
   ]
  },
  {
   "cell_type": "code",
   "execution_count": 9,
   "id": "a37e7327-e70b-4fdf-bc90-10937de5e551",
   "metadata": {},
   "outputs": [
    {
     "name": "stdout",
     "output_type": "stream",
     "text": [
      "+---+--------+---+------+\n",
      "| id|    name|age|gender|\n",
      "+---+--------+---+------+\n",
      "|  4|Jennifer| 20|     F|\n",
      "|  4|Jennifer| 20|     F|\n",
      "|  1|   James| 30|     M|\n",
      "|  1|   James| 30|     M|\n",
      "|  3|    Jeff| 41|     M|\n",
      "|  3|    Jeff| 41|     M|\n",
      "|  6|    Anna| 40|     F|\n",
      "|  5|     Sky| 30|     M|\n",
      "|  2|     Ann| 40|     F|\n",
      "|  2|     Ann| 40|     F|\n",
      "+---+--------+---+------+\n",
      "\n"
     ]
    }
   ],
   "source": [
    "data = [(5, \"Sky\",30,\"M\"), (6, \"Anna\",40,\"F\")]\n",
    "df = spark.createDataFrame(data)\n",
    "df.write.mode('append') \\\n",
    "          .insertInto(\"employee\")\n",
    "spark.sql(\"select * from employee;\").show()"
   ]
  },
  {
   "cell_type": "code",
   "execution_count": 13,
   "id": "34c72bda-8435-4eae-a7f5-564aa5f78f4d",
   "metadata": {},
   "outputs": [],
   "source": [
    "# Create a new session to test if the metadata persist\n",
    "spark_new = SparkSession.builder \\\n",
    "    .appName(\"SparkHiveExample\") \\\n",
    "    .config(\"spark.sql.catalogImplementation\", \"hive\") \\\n",
    "    .config(\"hive.metastore.uris\", \"thrift://hive-metastore:9083\") \\\n",
    "    .enableHiveSupport() \\\n",
    "    .getOrCreate()"
   ]
  },
  {
   "cell_type": "code",
   "execution_count": 14,
   "id": "8a4b9017-a3ee-4f5d-80cb-adccd58d1510",
   "metadata": {},
   "outputs": [
    {
     "name": "stdout",
     "output_type": "stream",
     "text": [
      "+---+--------+---+------+\n",
      "| id|    name|age|gender|\n",
      "+---+--------+---+------+\n",
      "|  4|Jennifer| 20|     F|\n",
      "|  4|Jennifer| 20|     F|\n",
      "|  1|   James| 30|     M|\n",
      "|  1|   James| 30|     M|\n",
      "|  3|    Jeff| 41|     M|\n",
      "|  3|    Jeff| 41|     M|\n",
      "|  6|    Anna| 40|     F|\n",
      "|  5|     Sky| 30|     M|\n",
      "|  2|     Ann| 40|     F|\n",
      "|  2|     Ann| 40|     F|\n",
      "+---+--------+---+------+\n",
      "\n"
     ]
    }
   ],
   "source": [
    "spark_new.sql(\"select * from emp.employee;\").show()"
   ]
  }
 ],
 "metadata": {
  "kernelspec": {
   "display_name": "Python 3 (ipykernel)",
   "language": "python",
   "name": "python3"
  },
  "language_info": {
   "codemirror_mode": {
    "name": "ipython",
    "version": 3
   },
   "file_extension": ".py",
   "mimetype": "text/x-python",
   "name": "python",
   "nbconvert_exporter": "python",
   "pygments_lexer": "ipython3",
   "version": "3.10.5"
  }
 },
 "nbformat": 4,
 "nbformat_minor": 5
}
