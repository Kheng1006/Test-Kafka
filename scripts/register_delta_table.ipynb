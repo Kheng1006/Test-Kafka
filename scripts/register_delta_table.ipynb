{
 "cells": [
  {
   "cell_type": "code",
   "execution_count": 1,
   "id": "d950b4f8-378a-4c6b-8fcf-ea40e9d3d3d5",
   "metadata": {},
   "outputs": [
    {
     "name": "stdout",
     "output_type": "stream",
     "text": [
      "Requirement already satisfied: python-dotenv in /opt/conda/lib/python3.10/site-packages (1.0.1)\n"
     ]
    }
   ],
   "source": [
    "! pip install python-dotenv"
   ]
  },
  {
   "cell_type": "code",
   "execution_count": 2,
   "id": "dfec32d8-bbb4-42ee-a02a-fd87d7ffc062",
   "metadata": {},
   "outputs": [],
   "source": [
    "from pyspark.sql import SparkSession\n",
    "from pyspark.sql.types import StructType, StructField, StringType, IntegerType, DoubleType, LongType\n",
    "from dotenv import load_dotenv\n",
    "import os"
   ]
  },
  {
   "cell_type": "code",
   "execution_count": 3,
   "id": "786e4034-db40-4605-a22e-1a75a3727154",
   "metadata": {},
   "outputs": [],
   "source": [
    "load_dotenv()\n",
    "HDFS_ENDPOINT = os.getenv(\"HDFS_ENDPOINT\")\n",
    "\n",
    "spark_register = SparkSession.builder \\\n",
    "    .appName(\"DeltaLakeToHDFS\") \\\n",
    "    .config(\"spark.sql.extensions\", \"io.delta.sql.DeltaSparkSessionExtension\") \\\n",
    "    .config(\"spark.jars.packages\", \"io.delta:delta-core_2.12:2.0.0\") \\\n",
    "    .config(\"spark.sql.catalog.spark_catalog\", \"org.apache.spark.sql.delta.catalog.DeltaCatalog\") \\\n",
    "    .config(\"hive.metastore.uris\", \"thrift://demo-hive-metastore:9083\") \\\n",
    "    .enableHiveSupport() \\\n",
    "    .getOrCreate()"
   ]
  },
  {
   "cell_type": "code",
   "execution_count": 4,
   "id": "3cd0a548-c1eb-47a4-8e6a-a6c4ee863b44",
   "metadata": {},
   "outputs": [],
   "source": [
    "table_name = 'apartment'\n",
    "table_location = f'hdfs://{HDFS_ENDPOINT}/delta-lake/{table_name}'"
   ]
  },
  {
   "cell_type": "code",
   "execution_count": 9,
   "id": "166d4ed5-202f-4a01-90b3-d517e934724b",
   "metadata": {},
   "outputs": [
    {
     "data": {
      "text/plain": [
       "DataFrame[]"
      ]
     },
     "execution_count": 9,
     "metadata": {},
     "output_type": "execute_result"
    }
   ],
   "source": [
    "spark_register.sql(f\"CREATE TABLE IF NOT EXISTS default.{table_name} USING DELTA LOCATION '{table_location}';\")"
   ]
  },
  {
   "cell_type": "code",
   "execution_count": 10,
   "id": "efc0cfe3-ba4b-435b-b159-7fde74b8f7b9",
   "metadata": {},
   "outputs": [
    {
     "name": "stdout",
     "output_type": "stream",
     "text": [
      "+----------+--------------------+--------------------+--------------------+--------------------+---------+--------+--------+---+---------+------------+-----+-------------+----------+-----------+--------------------+-------------+-----+--------+---------+------------+----------+\n",
      "|        id|            category|               title|                body|           amenities|bathrooms|bedrooms|currency|fee|has_photo|pets_allowed|price|price_display|price_type|square_feet|             address|     cityname|state|latitude|longitude|      source|      time|\n",
      "+----------+--------------------+--------------------+--------------------+--------------------+---------+--------+--------+---+---------+------------+-----+-------------+----------+-----------+--------------------+-------------+-----+--------+---------+------------+----------+\n",
      "|5668626895|housing/rent/apar...|Studio apartment ...|This unit is loca...|                null|     null|       0|     USD| No|Thumbnail|        None|  790|         $790|   Monthly|        101|                null|   Washington|   DC| 38.9057| -76.9861|   RentLingo|1577359415|\n",
      "|5664597177|housing/rent/apar...|Studio apartment ...|This unit is loca...|                null|     null|       1|     USD| No|Thumbnail|        None|  425|         $425|   Monthly|        106|      814 Schutte Rd|   Evansville|   IN| 37.9680| -87.6621|   RentLingo|1577017063|\n",
      "|5668626833|housing/rent/apar...|Studio apartment ...|This unit is loca...|                null|        1|       0|     USD| No|Thumbnail|        None| 1390|       $1,390|   Monthly|        107|                null|    Arlington|   VA| 38.8910| -77.0816|   RentLingo|1577359410|\n",
      "|5659918074|housing/rent/apar...|Studio apartment ...|This unit is loca...|                null|        1|       0|     USD| No|Thumbnail|        None|  925|         $925|   Monthly|        116|    1717 12th Avenue|      Seattle|   WA| 47.6160|-122.3275|   RentLingo|1576667743|\n",
      "|5668626759|housing/rent/apar...|Studio apartment ...|This unit is loca...|                null|     null|       0|     USD| No|Thumbnail|        None|  880|         $880|   Monthly|        125|                null|    Arlington|   VA| 38.8738| -77.1055|   RentLingo|1577359401|\n",
      "|5667891676|housing/rent/apar...|0 BR in New York ...|**RARE GEM WITH P...|Dishwasher,Elevat...|        1|       0|     USD| No|Thumbnail|        null| 2475|       $2,475|   Monthly|        130|    350 West 50th St|    Manhattan|   NY| 40.7629| -73.9885|    Listanza|1577289784|\n",
      "|5668627426|housing/rent/apar...|Studio apartment ...|This unit is loca...|                null|     null|       0|     USD| No|Thumbnail|        None| 1800|       $1,800|   Monthly|        132|  2432 Penmar Avenue|       Venice|   CA| 33.9932|-118.4609|   RentLingo|1577359461|\n",
      "|5668626687|housing/rent/apar...|Studio apartment ...|This unit is loca...|                null|     null|       0|     USD| No|Thumbnail|        None|  840|         $840|   Monthly|        136|                null|   Washington|   DC| 38.9328| -77.0297|   RentLingo|1577359393|\n",
      "|5668610290|housing/rent/apar...|Studio apartment ...|This unit is loca...|        Refrigerator|        1|       0|     USD| No|Thumbnail|        None| 1495|       $1,495|   Monthly|        138|         333 Hyde St|San Francisco|   CA| 37.7599|-122.4379|   RentLingo|1577358313|\n",
      "|5668627023|housing/rent/apar...|Studio apartment ...|This unit is loca...|                null|     null|       0|     USD| No|Thumbnail|        None|  890|         $890|   Monthly|        141|                null|   Washington|   DC| 38.9118| -77.0132|   RentLingo|1577359424|\n",
      "|5668627099|housing/rent/apar...|Studio apartment ...|This unit is loca...|                null|     null|       0|     USD| No|Thumbnail|        None|  990|         $990|   Monthly|        146|15th St SE Indepe...|   Washington|   DC| 38.9118| -77.0132|   RentLingo|1577359430|\n",
      "|5668626548|housing/rent/apar...|Studio apartment ...|This unit is loca...|                null|     null|       0|     USD| No|Thumbnail|        None|  840|         $840|   Monthly|        150|                null|   Washington|   DC| 38.9118| -77.0132|   RentLingo|1577359381|\n",
      "|5664598162|housing/rent/apar...|Studio apartment ...|This unit is loca...|                null|     null|       1|     USD| No|Thumbnail|   Cats,Dogs| 1795|       $1,795|   Monthly|        156|      2326 N 6th Ave|       Tucson|   AZ| 32.2264|-110.9438|   RentLingo|1577017148|\n",
      "|5668626900|housing/rent/apar...|Studio apartment ...|This unit is loca...|                null|     null|       0|     USD| No|Thumbnail|        None| 1090|       $1,090|   Monthly|        178|                null|   Washington|   DC| 38.9118| -77.0132|   RentLingo|1577359415|\n",
      "|5664571820|housing/rent/apar...|Studio apartment ...|This unit is loca...|        Refrigerator|        1|       0|     USD| No|Thumbnail|        None| 1695|       $1,695|   Monthly|        190|        57 Taylor St|San Francisco|   CA| 37.7599|-122.4379|   RentLingo|1577015121|\n",
      "|5659276240|housing/rent/apar...|  Studio Cottage 214|New Bern Studio i...|AC,Basketball,Cab...|        1|       1|     USD| No|Thumbnail|   Cats,Dogs| 1560|$1,560 Weekly|    Weekly|        200|                null|     New Bern|   NC| 35.0847| -77.0609|   ListedBuy|1576618076|\n",
      "|5654898031|housing/rent/apar...|  Studio Cottage 214|New Bern Studio i...|AC,Basketball,Cab...|        1|       1|     USD| No|Thumbnail|   Cats,Dogs| 1560|       $1,560|   Monthly|        200|180 Moonlight Lak...|     New Bern|   NC| 35.0960| -77.0272|RentDigs.com|1576406273|\n",
      "|5664574876|housing/rent/apar...|One BR Spring Rid...|This unit is loca...|                null|        1|       1|     USD| No|Thumbnail|        None| 1000|       $1,000|   Monthly|        200|                null|       Spring|   TX| 30.0871| -95.4685|   RentLingo|1577015327|\n",
      "|5668633573|housing/rent/apar...|Studio apartment ...|This unit is loca...|                null|        1|       1|     USD| No|Thumbnail|        None|  950|         $950|   Monthly|        200|545 Georgia St 71...|      Vallejo|   CA| 38.1172|-122.2313|   RentLingo|1577359918|\n",
      "|5668624220|housing/rent/apar...|One BR Falcon Woo...|This unit is loca...|                Pool|        1|       1|     USD| No|Thumbnail|        None|  625|         $625|   Monthly|        200|                null|     Marietta|   GA| 33.9649| -84.5107|   RentLingo|1577359224|\n",
      "+----------+--------------------+--------------------+--------------------+--------------------+---------+--------+--------+---+---------+------------+-----+-------------+----------+-----------+--------------------+-------------+-----+--------+---------+------------+----------+\n",
      "only showing top 20 rows\n",
      "\n"
     ]
    }
   ],
   "source": [
    "spark_register.sql(f\"SELECT * FROM {table_name}\").show()"
   ]
  }
 ],
 "metadata": {
  "kernelspec": {
   "display_name": "Python 3 (ipykernel)",
   "language": "python",
   "name": "python3"
  },
  "language_info": {
   "codemirror_mode": {
    "name": "ipython",
    "version": 3
   },
   "file_extension": ".py",
   "mimetype": "text/x-python",
   "name": "python",
   "nbconvert_exporter": "python",
   "pygments_lexer": "ipython3",
   "version": "3.10.5"
  }
 },
 "nbformat": 4,
 "nbformat_minor": 5
}
