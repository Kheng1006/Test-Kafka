{
 "cells": [
  {
   "cell_type": "code",
   "execution_count": 1,
   "id": "c55ef550-315d-4777-ac84-571994863539",
   "metadata": {},
   "outputs": [
    {
     "name": "stdout",
     "output_type": "stream",
     "text": [
      "Collecting trino\n",
      "  Downloading trino-0.329.0-py3-none-any.whl (53 kB)\n",
      "\u001b[2K     \u001b[90m━━━━━━━━━━━━━━━━━━━━━━━━━━━━━━━━━━━━━━━\u001b[0m \u001b[32m53.0/53.0 kB\u001b[0m \u001b[31m813.9 kB/s\u001b[0m eta \u001b[36m0:00:00\u001b[0m \u001b[36m0:00:01\u001b[0m\n",
      "\u001b[?25hCollecting requests>=2.31.0\n",
      "  Downloading requests-2.32.3-py3-none-any.whl (64 kB)\n",
      "\u001b[2K     \u001b[90m━━━━━━━━━━━━━━━━━━━━━━━━━━━━━━━━━━━━━━━━\u001b[0m \u001b[32m64.9/64.9 kB\u001b[0m \u001b[31m1.1 MB/s\u001b[0m eta \u001b[36m0:00:00\u001b[0ma \u001b[36m0:00:01\u001b[0m\n",
      "\u001b[?25hRequirement already satisfied: python-dateutil in /opt/conda/lib/python3.10/site-packages (from trino) (2.8.2)\n",
      "Requirement already satisfied: pytz in /opt/conda/lib/python3.10/site-packages (from trino) (2022.1)\n",
      "Collecting tzlocal\n",
      "  Downloading tzlocal-5.2-py3-none-any.whl (17 kB)\n",
      "Requirement already satisfied: urllib3<3,>=1.21.1 in /opt/conda/lib/python3.10/site-packages (from requests>=2.31.0->trino) (1.26.9)\n",
      "Requirement already satisfied: charset-normalizer<4,>=2 in /opt/conda/lib/python3.10/site-packages (from requests>=2.31.0->trino) (2.1.0)\n",
      "Requirement already satisfied: idna<4,>=2.5 in /opt/conda/lib/python3.10/site-packages (from requests>=2.31.0->trino) (3.3)\n",
      "Requirement already satisfied: certifi>=2017.4.17 in /opt/conda/lib/python3.10/site-packages (from requests>=2.31.0->trino) (2022.6.15)\n",
      "Requirement already satisfied: six>=1.5 in /opt/conda/lib/python3.10/site-packages (from python-dateutil->trino) (1.16.0)\n",
      "Installing collected packages: tzlocal, requests, trino\n",
      "  Attempting uninstall: requests\n",
      "    Found existing installation: requests 2.28.1\n",
      "    Uninstalling requests-2.28.1:\n",
      "      Successfully uninstalled requests-2.28.1\n",
      "Successfully installed requests-2.32.3 trino-0.329.0 tzlocal-5.2\n"
     ]
    }
   ],
   "source": [
    "! pip install trino"
   ]
  },
  {
   "cell_type": "code",
   "execution_count": 2,
   "id": "60e7d5c6-4418-47a7-b538-689cbd0c21d5",
   "metadata": {},
   "outputs": [],
   "source": [
    "from trino.dbapi import connect\n",
    "\n",
    "conn = connect(\n",
    "    host=\"demo-trino\",\n",
    "    port=8080,\n",
    "    user=\"trino\",\n",
    "    catalog=\"delta\",\n",
    "    schema=\"default\",\n",
    ")\n",
    "cur = conn.cursor()\n",
    "cur.execute(\"SELECT * FROM delta.default.apartment\")\n",
    "rows = cur.fetchall()"
   ]
  },
  {
   "cell_type": "code",
   "execution_count": 9,
   "id": "8b722785-c041-47b3-bad2-971c8bf5e366",
   "metadata": {},
   "outputs": [
    {
     "name": "stdout",
     "output_type": "stream",
     "text": [
      "[[5509156587, 'housing/rent/apartment', 'Over 990 sf in Bedford', \"Square footage: 990 sq. feet, unit number: 111136. Find elegance in. Creek apartments. Envision a retreat that offers elegance and comfort that adapts to your lifestyle. Located conveniently in the Mid-Cities and loaded with amenities our custom house-style 1, 2 and three beds floor plans boast excellent interior finishes and info including picture windows, gourmet kitchens, customized cabinetry and much more. At Colonial Creek you'll enjoy such amenities as a sparkling pool, a state-of-the-art cardio and strength training center, package receiving and easy access to 183 and superior shopping and dining. Experience this and more when you make the decision to. Creek. Reserve your new. Creek today! 11A-fireplace, 11B-fireplace, 11C-fireplace, 11D-fireplace, 22A-fireplace, 22B-fireplace, 22C-fireplace, 32A-fireplace, Creek, Ct. yard 1, Fireplace, Handicappped Accessible, Plumbing Fixture Amenity, Pool, Redesigned Interior, RENW Washer-dryer, Resurfacing, Soaring ceiling, Washer / dryer.\", 'Fireplace,Pool,Washer Dryer', '2', '2', 'USD', 'No', 'Yes', 'Cats,Dogs', 1433, '$1,433', 'Monthly', 990, 'null', 'Bedford', 'TX', '32.8281', '-97.1450', 'RentDigs.com', 1568776819]]\n"
     ]
    }
   ],
   "source": [
    "print(rows[:1])"
   ]
  },
  {
   "cell_type": "code",
   "execution_count": 10,
   "id": "bde1ae24-ee25-4a46-9f7a-191778729072",
   "metadata": {},
   "outputs": [],
   "source": [
    "from sqlalchemy import create_engine\n",
    "from sqlalchemy.schema import Table, MetaData\n",
    "from sqlalchemy.sql.expression import select, text\n",
    "\n",
    "engine = create_engine('trino://trino@demo-trino:8080/delta')\n",
    "connection = engine.connect()\n",
    "rows = connection.execute(text(\"SELECT * FROM default.apartment\")).fetchall()"
   ]
  },
  {
   "cell_type": "code",
   "execution_count": 11,
   "id": "2dd52995-1fb7-4743-bf23-b3578f37d056",
   "metadata": {},
   "outputs": [
    {
     "name": "stdout",
     "output_type": "stream",
     "text": [
      "[(5509156587, 'housing/rent/apartment', 'Over 990 sf in Bedford', \"Square footage: 990 sq. feet, unit number: 111136. Find elegance in. Creek apartments. Envision a retreat that offers elegance and comfort that adapt ... (700 characters truncated) ... place, Handicappped Accessible, Plumbing Fixture Amenity, Pool, Redesigned Interior, RENW Washer-dryer, Resurfacing, Soaring ceiling, Washer / dryer.\", 'Fireplace,Pool,Washer Dryer', '2', '2', 'USD', 'No', 'Yes', 'Cats,Dogs', 1433, '$1,433', 'Monthly', 990, 'null', 'Bedford', 'TX', '32.8281', '-97.1450', 'RentDigs.com', 1568776819)]\n"
     ]
    }
   ],
   "source": [
    "print(rows[:1])"
   ]
  }
 ],
 "metadata": {
  "kernelspec": {
   "display_name": "Python 3 (ipykernel)",
   "language": "python",
   "name": "python3"
  },
  "language_info": {
   "codemirror_mode": {
    "name": "ipython",
    "version": 3
   },
   "file_extension": ".py",
   "mimetype": "text/x-python",
   "name": "python",
   "nbconvert_exporter": "python",
   "pygments_lexer": "ipython3",
   "version": "3.10.5"
  }
 },
 "nbformat": 4,
 "nbformat_minor": 5
}
