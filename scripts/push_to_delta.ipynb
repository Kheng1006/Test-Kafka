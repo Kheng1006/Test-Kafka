{
 "cells": [
  {
   "cell_type": "code",
   "execution_count": 1,
   "id": "4b56072d-9277-43e2-8d0c-60e03dc3bd26",
   "metadata": {},
   "outputs": [
    {
     "name": "stdout",
     "output_type": "stream",
     "text": [
      "Collecting python-dotenv\n",
      "  Downloading python_dotenv-1.0.1-py3-none-any.whl (19 kB)\n",
      "Installing collected packages: python-dotenv\n",
      "Successfully installed python-dotenv-1.0.1\n"
     ]
    }
   ],
   "source": [
    "! pip install python-dotenv"
   ]
  },
  {
   "cell_type": "code",
   "execution_count": 2,
   "id": "c9b50fba-e493-4547-b1e5-f5fd960a4be8",
   "metadata": {},
   "outputs": [],
   "source": [
    "from pyspark.sql import SparkSession\n",
    "from pyspark.sql.types import StructType, StructField, StringType, IntegerType, DoubleType, LongType\n",
    "from dotenv import load_dotenv\n",
    "import os"
   ]
  },
  {
   "cell_type": "code",
   "execution_count": 3,
   "id": "37877699-14cc-43d6-b746-d82cf8f31cfc",
   "metadata": {},
   "outputs": [],
   "source": [
    "# Load environment variables\n",
    "load_dotenv()\n",
    "\n",
    "HDFS_ENDPOINT = \"demo-hadoop-namenode:9000\"\n",
    "\n",
    "spark = SparkSession.builder \\\n",
    "    .appName(\"DeltaLakeHDFS\") \\\n",
    "    .config(\"spark.sql.extensions\", \"io.delta.sql.DeltaSparkSessionExtension\") \\\n",
    "    .config(\"spark.jars.packages\", \"io.delta:delta-core_2.12:2.0.0\") \\\n",
    "    .config(\"spark.sql.catalog.spark_catalog\", \"org.apache.spark.sql.delta.catalog.DeltaCatalog\") \\\n",
    "    .getOrCreate()"
   ]
  },
  {
   "cell_type": "code",
   "execution_count": 4,
   "id": "2307a4ad-a7b7-46b8-9d4e-ceb1c737fe81",
   "metadata": {},
   "outputs": [],
   "source": [
    "csv_file_path = \"./apartments.csv\"\n",
    "table_name = 'apartment'\n",
    "table_location = f'hdfs://{HDFS_ENDPOINT}/delta-lake/{table_name}'"
   ]
  },
  {
   "cell_type": "code",
   "execution_count": 5,
   "id": "a864b394-c36e-4d97-a7ee-ee97699d005d",
   "metadata": {},
   "outputs": [],
   "source": [
    "df = spark.read.option(\"delimiter\", \";\").csv(csv_file_path, header=True, inferSchema=True)"
   ]
  },
  {
   "cell_type": "code",
   "execution_count": 6,
   "id": "5bb27fd7-ea2d-43dd-8e62-72c11b0cc1c4",
   "metadata": {},
   "outputs": [
    {
     "name": "stdout",
     "output_type": "stream",
     "text": [
      "+----------+--------------------+--------------------+--------------------+--------------------+---------+--------+--------+---+---------+------------+-----+-------------+----------+-----------+--------------------+-------------+-----+--------+---------+------------+----------+\n",
      "|        id|            category|               title|                body|           amenities|bathrooms|bedrooms|currency|fee|has_photo|pets_allowed|price|price_display|price_type|square_feet|             address|     cityname|state|latitude|longitude|      source|      time|\n",
      "+----------+--------------------+--------------------+--------------------+--------------------+---------+--------+--------+---+---------+------------+-----+-------------+----------+-----------+--------------------+-------------+-----+--------+---------+------------+----------+\n",
      "|5668626895|housing/rent/apar...|Studio apartment ...|This unit is loca...|                null|     null|       0|     USD| No|Thumbnail|        None|  790|         $790|   Monthly|        101|                null|   Washington|   DC| 38.9057| -76.9861|   RentLingo|1577359415|\n",
      "|5664597177|housing/rent/apar...|Studio apartment ...|This unit is loca...|                null|     null|       1|     USD| No|Thumbnail|        None|  425|         $425|   Monthly|        106|      814 Schutte Rd|   Evansville|   IN| 37.9680| -87.6621|   RentLingo|1577017063|\n",
      "|5668626833|housing/rent/apar...|Studio apartment ...|This unit is loca...|                null|        1|       0|     USD| No|Thumbnail|        None| 1390|       $1,390|   Monthly|        107|                null|    Arlington|   VA| 38.8910| -77.0816|   RentLingo|1577359410|\n",
      "|5659918074|housing/rent/apar...|Studio apartment ...|This unit is loca...|                null|        1|       0|     USD| No|Thumbnail|        None|  925|         $925|   Monthly|        116|    1717 12th Avenue|      Seattle|   WA| 47.6160|-122.3275|   RentLingo|1576667743|\n",
      "|5668626759|housing/rent/apar...|Studio apartment ...|This unit is loca...|                null|     null|       0|     USD| No|Thumbnail|        None|  880|         $880|   Monthly|        125|                null|    Arlington|   VA| 38.8738| -77.1055|   RentLingo|1577359401|\n",
      "|5667891676|housing/rent/apar...|0 BR in New York ...|**RARE GEM WITH P...|Dishwasher,Elevat...|        1|       0|     USD| No|Thumbnail|        null| 2475|       $2,475|   Monthly|        130|    350 West 50th St|    Manhattan|   NY| 40.7629| -73.9885|    Listanza|1577289784|\n",
      "|5668627426|housing/rent/apar...|Studio apartment ...|This unit is loca...|                null|     null|       0|     USD| No|Thumbnail|        None| 1800|       $1,800|   Monthly|        132|  2432 Penmar Avenue|       Venice|   CA| 33.9932|-118.4609|   RentLingo|1577359461|\n",
      "|5668626687|housing/rent/apar...|Studio apartment ...|This unit is loca...|                null|     null|       0|     USD| No|Thumbnail|        None|  840|         $840|   Monthly|        136|                null|   Washington|   DC| 38.9328| -77.0297|   RentLingo|1577359393|\n",
      "|5668610290|housing/rent/apar...|Studio apartment ...|This unit is loca...|        Refrigerator|        1|       0|     USD| No|Thumbnail|        None| 1495|       $1,495|   Monthly|        138|         333 Hyde St|San Francisco|   CA| 37.7599|-122.4379|   RentLingo|1577358313|\n",
      "|5668627023|housing/rent/apar...|Studio apartment ...|This unit is loca...|                null|     null|       0|     USD| No|Thumbnail|        None|  890|         $890|   Monthly|        141|                null|   Washington|   DC| 38.9118| -77.0132|   RentLingo|1577359424|\n",
      "|5668627099|housing/rent/apar...|Studio apartment ...|This unit is loca...|                null|     null|       0|     USD| No|Thumbnail|        None|  990|         $990|   Monthly|        146|15th St SE Indepe...|   Washington|   DC| 38.9118| -77.0132|   RentLingo|1577359430|\n",
      "|5668626548|housing/rent/apar...|Studio apartment ...|This unit is loca...|                null|     null|       0|     USD| No|Thumbnail|        None|  840|         $840|   Monthly|        150|                null|   Washington|   DC| 38.9118| -77.0132|   RentLingo|1577359381|\n",
      "|5664598162|housing/rent/apar...|Studio apartment ...|This unit is loca...|                null|     null|       1|     USD| No|Thumbnail|   Cats,Dogs| 1795|       $1,795|   Monthly|        156|      2326 N 6th Ave|       Tucson|   AZ| 32.2264|-110.9438|   RentLingo|1577017148|\n",
      "|5668626900|housing/rent/apar...|Studio apartment ...|This unit is loca...|                null|     null|       0|     USD| No|Thumbnail|        None| 1090|       $1,090|   Monthly|        178|                null|   Washington|   DC| 38.9118| -77.0132|   RentLingo|1577359415|\n",
      "|5664571820|housing/rent/apar...|Studio apartment ...|This unit is loca...|        Refrigerator|        1|       0|     USD| No|Thumbnail|        None| 1695|       $1,695|   Monthly|        190|        57 Taylor St|San Francisco|   CA| 37.7599|-122.4379|   RentLingo|1577015121|\n",
      "|5659276240|housing/rent/apar...|  Studio Cottage 214|New Bern Studio i...|AC,Basketball,Cab...|        1|       1|     USD| No|Thumbnail|   Cats,Dogs| 1560|$1,560 Weekly|    Weekly|        200|                null|     New Bern|   NC| 35.0847| -77.0609|   ListedBuy|1576618076|\n",
      "|5654898031|housing/rent/apar...|  Studio Cottage 214|New Bern Studio i...|AC,Basketball,Cab...|        1|       1|     USD| No|Thumbnail|   Cats,Dogs| 1560|       $1,560|   Monthly|        200|180 Moonlight Lak...|     New Bern|   NC| 35.0960| -77.0272|RentDigs.com|1576406273|\n",
      "|5664574876|housing/rent/apar...|One BR Spring Rid...|This unit is loca...|                null|        1|       1|     USD| No|Thumbnail|        None| 1000|       $1,000|   Monthly|        200|                null|       Spring|   TX| 30.0871| -95.4685|   RentLingo|1577015327|\n",
      "|5668633573|housing/rent/apar...|Studio apartment ...|This unit is loca...|                null|        1|       1|     USD| No|Thumbnail|        None|  950|         $950|   Monthly|        200|545 Georgia St 71...|      Vallejo|   CA| 38.1172|-122.2313|   RentLingo|1577359918|\n",
      "|5668624220|housing/rent/apar...|One BR Falcon Woo...|This unit is loca...|                Pool|        1|       1|     USD| No|Thumbnail|        None|  625|         $625|   Monthly|        200|                null|     Marietta|   GA| 33.9649| -84.5107|   RentLingo|1577359224|\n",
      "+----------+--------------------+--------------------+--------------------+--------------------+---------+--------+--------+---+---------+------------+-----+-------------+----------+-----------+--------------------+-------------+-----+--------+---------+------------+----------+\n",
      "only showing top 20 rows\n",
      "\n",
      "root\n",
      " |-- id: long (nullable = true)\n",
      " |-- category: string (nullable = true)\n",
      " |-- title: string (nullable = true)\n",
      " |-- body: string (nullable = true)\n",
      " |-- amenities: string (nullable = true)\n",
      " |-- bathrooms: string (nullable = true)\n",
      " |-- bedrooms: string (nullable = true)\n",
      " |-- currency: string (nullable = true)\n",
      " |-- fee: string (nullable = true)\n",
      " |-- has_photo: string (nullable = true)\n",
      " |-- pets_allowed: string (nullable = true)\n",
      " |-- price: integer (nullable = true)\n",
      " |-- price_display: string (nullable = true)\n",
      " |-- price_type: string (nullable = true)\n",
      " |-- square_feet: integer (nullable = true)\n",
      " |-- address: string (nullable = true)\n",
      " |-- cityname: string (nullable = true)\n",
      " |-- state: string (nullable = true)\n",
      " |-- latitude: string (nullable = true)\n",
      " |-- longitude: string (nullable = true)\n",
      " |-- source: string (nullable = true)\n",
      " |-- time: integer (nullable = true)\n",
      "\n"
     ]
    }
   ],
   "source": [
    "df.show()\n",
    "\n",
    "df.printSchema()"
   ]
  },
  {
   "cell_type": "code",
   "execution_count": 7,
   "id": "f5802b56-ad20-4991-8714-b6f2d36cde87",
   "metadata": {},
   "outputs": [
    {
     "ename": "AnalysisException",
     "evalue": "Cannot write to already existent path hdfs://demo-hadoop-namenode:9000/delta-lake/apartment without setting OVERWRITE = 'true'.",
     "output_type": "error",
     "traceback": [
      "\u001b[0;31m---------------------------------------------------------------------------\u001b[0m",
      "\u001b[0;31mAnalysisException\u001b[0m                         Traceback (most recent call last)",
      "Input \u001b[0;32mIn [7]\u001b[0m, in \u001b[0;36m<cell line: 1>\u001b[0;34m()\u001b[0m\n\u001b[0;32m----> 1\u001b[0m \u001b[43mdf\u001b[49m\u001b[38;5;241;43m.\u001b[39;49m\u001b[43mwrite\u001b[49m\u001b[38;5;241;43m.\u001b[39;49m\u001b[43mformat\u001b[49m\u001b[43m(\u001b[49m\u001b[38;5;124;43m\"\u001b[39;49m\u001b[38;5;124;43mdelta\u001b[39;49m\u001b[38;5;124;43m\"\u001b[39;49m\u001b[43m)\u001b[49m\u001b[38;5;241;43m.\u001b[39;49m\u001b[43moption\u001b[49m\u001b[43m(\u001b[49m\u001b[38;5;124;43m\"\u001b[39;49m\u001b[38;5;124;43mpath\u001b[39;49m\u001b[38;5;124;43m\"\u001b[39;49m\u001b[43m,\u001b[49m\u001b[43m \u001b[49m\u001b[43mtable_location\u001b[49m\u001b[43m)\u001b[49m\u001b[38;5;241;43m.\u001b[39;49m\u001b[43msave\u001b[49m\u001b[43m(\u001b[49m\u001b[43m)\u001b[49m\n",
      "File \u001b[0;32m/usr/local/spark/python/pyspark/sql/readwriter.py:738\u001b[0m, in \u001b[0;36mDataFrameWriter.save\u001b[0;34m(self, path, format, mode, partitionBy, **options)\u001b[0m\n\u001b[1;32m    736\u001b[0m     \u001b[38;5;28mself\u001b[39m\u001b[38;5;241m.\u001b[39mformat(\u001b[38;5;28mformat\u001b[39m)\n\u001b[1;32m    737\u001b[0m \u001b[38;5;28;01mif\u001b[39;00m path \u001b[38;5;129;01mis\u001b[39;00m \u001b[38;5;28;01mNone\u001b[39;00m:\n\u001b[0;32m--> 738\u001b[0m     \u001b[38;5;28;43mself\u001b[39;49m\u001b[38;5;241;43m.\u001b[39;49m\u001b[43m_jwrite\u001b[49m\u001b[38;5;241;43m.\u001b[39;49m\u001b[43msave\u001b[49m\u001b[43m(\u001b[49m\u001b[43m)\u001b[49m\n\u001b[1;32m    739\u001b[0m \u001b[38;5;28;01melse\u001b[39;00m:\n\u001b[1;32m    740\u001b[0m     \u001b[38;5;28mself\u001b[39m\u001b[38;5;241m.\u001b[39m_jwrite\u001b[38;5;241m.\u001b[39msave(path)\n",
      "File \u001b[0;32m/usr/local/spark/python/lib/py4j-0.10.9.3-src.zip/py4j/java_gateway.py:1321\u001b[0m, in \u001b[0;36mJavaMember.__call__\u001b[0;34m(self, *args)\u001b[0m\n\u001b[1;32m   1315\u001b[0m command \u001b[38;5;241m=\u001b[39m proto\u001b[38;5;241m.\u001b[39mCALL_COMMAND_NAME \u001b[38;5;241m+\u001b[39m\\\n\u001b[1;32m   1316\u001b[0m     \u001b[38;5;28mself\u001b[39m\u001b[38;5;241m.\u001b[39mcommand_header \u001b[38;5;241m+\u001b[39m\\\n\u001b[1;32m   1317\u001b[0m     args_command \u001b[38;5;241m+\u001b[39m\\\n\u001b[1;32m   1318\u001b[0m     proto\u001b[38;5;241m.\u001b[39mEND_COMMAND_PART\n\u001b[1;32m   1320\u001b[0m answer \u001b[38;5;241m=\u001b[39m \u001b[38;5;28mself\u001b[39m\u001b[38;5;241m.\u001b[39mgateway_client\u001b[38;5;241m.\u001b[39msend_command(command)\n\u001b[0;32m-> 1321\u001b[0m return_value \u001b[38;5;241m=\u001b[39m \u001b[43mget_return_value\u001b[49m\u001b[43m(\u001b[49m\n\u001b[1;32m   1322\u001b[0m \u001b[43m    \u001b[49m\u001b[43manswer\u001b[49m\u001b[43m,\u001b[49m\u001b[43m \u001b[49m\u001b[38;5;28;43mself\u001b[39;49m\u001b[38;5;241;43m.\u001b[39;49m\u001b[43mgateway_client\u001b[49m\u001b[43m,\u001b[49m\u001b[43m \u001b[49m\u001b[38;5;28;43mself\u001b[39;49m\u001b[38;5;241;43m.\u001b[39;49m\u001b[43mtarget_id\u001b[49m\u001b[43m,\u001b[49m\u001b[43m \u001b[49m\u001b[38;5;28;43mself\u001b[39;49m\u001b[38;5;241;43m.\u001b[39;49m\u001b[43mname\u001b[49m\u001b[43m)\u001b[49m\n\u001b[1;32m   1324\u001b[0m \u001b[38;5;28;01mfor\u001b[39;00m temp_arg \u001b[38;5;129;01min\u001b[39;00m temp_args:\n\u001b[1;32m   1325\u001b[0m     temp_arg\u001b[38;5;241m.\u001b[39m_detach()\n",
      "File \u001b[0;32m/usr/local/spark/python/pyspark/sql/utils.py:117\u001b[0m, in \u001b[0;36mcapture_sql_exception.<locals>.deco\u001b[0;34m(*a, **kw)\u001b[0m\n\u001b[1;32m    113\u001b[0m converted \u001b[38;5;241m=\u001b[39m convert_exception(e\u001b[38;5;241m.\u001b[39mjava_exception)\n\u001b[1;32m    114\u001b[0m \u001b[38;5;28;01mif\u001b[39;00m \u001b[38;5;129;01mnot\u001b[39;00m \u001b[38;5;28misinstance\u001b[39m(converted, UnknownException):\n\u001b[1;32m    115\u001b[0m     \u001b[38;5;66;03m# Hide where the exception came from that shows a non-Pythonic\u001b[39;00m\n\u001b[1;32m    116\u001b[0m     \u001b[38;5;66;03m# JVM exception message.\u001b[39;00m\n\u001b[0;32m--> 117\u001b[0m     \u001b[38;5;28;01mraise\u001b[39;00m converted \u001b[38;5;28;01mfrom\u001b[39;00m \u001b[38;5;28mNone\u001b[39m\n\u001b[1;32m    118\u001b[0m \u001b[38;5;28;01melse\u001b[39;00m:\n\u001b[1;32m    119\u001b[0m     \u001b[38;5;28;01mraise\u001b[39;00m\n",
      "\u001b[0;31mAnalysisException\u001b[0m: Cannot write to already existent path hdfs://demo-hadoop-namenode:9000/delta-lake/apartment without setting OVERWRITE = 'true'."
     ]
    }
   ],
   "source": [
    "df.write.format(\"delta\").option(\"path\", table_location).save()"
   ]
  }
 ],
 "metadata": {
  "kernelspec": {
   "display_name": "Python 3 (ipykernel)",
   "language": "python",
   "name": "python3"
  },
  "language_info": {
   "codemirror_mode": {
    "name": "ipython",
    "version": 3
   },
   "file_extension": ".py",
   "mimetype": "text/x-python",
   "name": "python",
   "nbconvert_exporter": "python",
   "pygments_lexer": "ipython3",
   "version": "3.10.5"
  }
 },
 "nbformat": 4,
 "nbformat_minor": 5
}
