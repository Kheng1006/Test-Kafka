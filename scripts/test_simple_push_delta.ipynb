{
 "cells": [
  {
   "cell_type": "code",
   "execution_count": 1,
   "id": "fcfcbb74-46ae-4029-825f-8ad2f932e75a",
   "metadata": {},
   "outputs": [],
   "source": [
    "from pyspark.sql import SparkSession\n",
    "from pyspark.sql.types import StructType, StructField, StringType, IntegerType, DoubleType, LongType\n",
    "from dotenv import load_dotenv\n",
    "import os"
   ]
  },
  {
   "cell_type": "code",
   "execution_count": 2,
   "id": "63f9c830-bfcf-4df7-8f3a-93d40c761d7d",
   "metadata": {},
   "outputs": [],
   "source": [
    "# Load environment variables\n",
    "load_dotenv()\n",
    "\n",
    "HDFS_ENDPOINT = \"demo-hadoop-namenode:9000\"\n",
    "\n",
    "spark = SparkSession.builder \\\n",
    "    .appName(\"DeltaLakeHDFS\") \\\n",
    "    .config(\"spark.sql.extensions\", \"io.delta.sql.DeltaSparkSessionExtension\") \\\n",
    "    .config(\"spark.jars.packages\", \"io.delta:delta-core_2.12:2.0.0\") \\\n",
    "    .config(\"spark.sql.catalog.spark_catalog\", \"org.apache.spark.sql.delta.catalog.DeltaCatalog\") \\\n",
    "    .getOrCreate()"
   ]
  },
  {
   "cell_type": "code",
   "execution_count": 3,
   "id": "cafde787-304b-4a16-a7f9-f9154dd51daf",
   "metadata": {},
   "outputs": [],
   "source": [
    "table_name = 'people'\n",
    "table_location = f'hdfs://{HDFS_ENDPOINT}/delta-lake/{table_name}'"
   ]
  },
  {
   "cell_type": "code",
   "execution_count": 6,
   "id": "24f1484d-03b7-4932-af30-5cd20df07dee",
   "metadata": {},
   "outputs": [
    {
     "data": {
      "text/plain": [
       "'hdfs://demo-hadoop-namenode:9000/delta-lake/people'"
      ]
     },
     "execution_count": 6,
     "metadata": {},
     "output_type": "execute_result"
    }
   ],
   "source": [
    "table_location"
   ]
  },
  {
   "cell_type": "code",
   "execution_count": 4,
   "id": "5f6979c7-e1cc-4b17-aba1-04b3c77a483f",
   "metadata": {},
   "outputs": [],
   "source": [
    "schema = StructType([\n",
    "    StructField(\"Name\", StringType(), True),\n",
    "    StructField(\"Age\", IntegerType(), True),\n",
    "    StructField(\"City\", StringType(), True)\n",
    "])\n",
    "\n",
    "# Create data\n",
    "data = [(\"Alice\", 30, \"New York\"),\n",
    "        (\"Bob\", 25, \"San Francisco\"),\n",
    "        (\"Charlie\", 35, \"Los Angeles\")]\n",
    "\n",
    "# Create DataFrame\n",
    "df = spark.createDataFrame(data, schema)\n",
    "\n",
    "df.write.format(\"delta\").option(\"path\", table_location).save()"
   ]
  },
  {
   "cell_type": "code",
   "execution_count": 7,
   "id": "56167bef-8330-4825-a6c0-d4d5e93d1b9c",
   "metadata": {},
   "outputs": [],
   "source": [
    "new_data = [(\"David\", 28, \"Chicago\"),\n",
    "            (\"Eve\", 22, \"Boston\")]\n",
    "\n",
    "new_df = spark.createDataFrame(new_data, schema)\n",
    "\n",
    "new_df.write.format(\"delta\").mode(\"append\").option(\"path\", table_location).save()"
   ]
  }
 ],
 "metadata": {
  "kernelspec": {
   "display_name": "Python 3 (ipykernel)",
   "language": "python",
   "name": "python3"
  },
  "language_info": {
   "codemirror_mode": {
    "name": "ipython",
    "version": 3
   },
   "file_extension": ".py",
   "mimetype": "text/x-python",
   "name": "python",
   "nbconvert_exporter": "python",
   "pygments_lexer": "ipython3",
   "version": "3.10.5"
  }
 },
 "nbformat": 4,
 "nbformat_minor": 5
}
